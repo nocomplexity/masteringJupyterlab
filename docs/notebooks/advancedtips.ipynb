{
 "cells": [
  {
   "cell_type": "markdown",
   "id": "stunning-monkey",
   "metadata": {},
   "source": [
    "# Magic commands tips\n",
    "\n",
    "In this section some solutions for JupyterLab uses for more demanding users.\n",
    "\n"
   ]
  },
  {
   "cell_type": "markdown",
   "id": "instructional-colors",
   "metadata": {
    "toc-hr-collapsed": true
   },
   "source": [
    "## Get the cell output to use in a variable\n",
    "\n",
    "IPython's output caching system defines several global variables:\n",
    "\n",
    "-    [_] (a single underscore): stores previous output, like Python’s default interpreter.\n",
    "-    [__] (two underscores): next previous.\n",
    "-    [___] (three underscores): next-next previous.\n",
    "\n",
    "Additionally, after each output x is created, there is a variable `_<x>` created with the output as its value. \n",
    "\n",
    "For example:"
   ]
  },
  {
   "cell_type": "code",
   "execution_count": 15,
   "id": "horizontal-canadian",
   "metadata": {},
   "outputs": [],
   "source": [
    "x= [i for i in range(7)]"
   ]
  },
  {
   "cell_type": "code",
   "execution_count": 16,
   "id": "large-tractor",
   "metadata": {},
   "outputs": [
    {
     "data": {
      "text/plain": [
       "[0, 1, 2, 3, 4, 5, 6]"
      ]
     },
     "execution_count": 16,
     "metadata": {},
     "output_type": "execute_result"
    }
   ],
   "source": [
    "x"
   ]
  },
  {
   "cell_type": "code",
   "execution_count": 17,
   "id": "unnecessary-spider",
   "metadata": {},
   "outputs": [],
   "source": [
    "y=_3 #the output of cell 2 , you could use also y=__"
   ]
  },
  {
   "cell_type": "code",
   "execution_count": 18,
   "id": "hairy-report",
   "metadata": {},
   "outputs": [
    {
     "data": {
      "text/plain": [
       "[0, 1, 2, 3, 4, 5, 6, 12]"
      ]
     },
     "execution_count": 18,
     "metadata": {},
     "output_type": "execute_result"
    }
   ],
   "source": [
    "y"
   ]
  },
  {
   "cell_type": "code",
   "execution_count": 19,
   "id": "fifty-credit",
   "metadata": {},
   "outputs": [],
   "source": [
    "y.append(12)"
   ]
  },
  {
   "cell_type": "code",
   "execution_count": 20,
   "id": "blank-alignment",
   "metadata": {},
   "outputs": [
    {
     "data": {
      "text/plain": [
       "[0, 1, 2, 3, 4, 5, 6, 12, 12]"
      ]
     },
     "execution_count": 20,
     "metadata": {},
     "output_type": "execute_result"
    }
   ],
   "source": [
    "y"
   ]
  },
  {
   "cell_type": "code",
   "execution_count": 21,
   "id": "vocal-catalyst",
   "metadata": {},
   "outputs": [
    {
     "data": {
      "text/plain": [
       "list"
      ]
     },
     "execution_count": 21,
     "metadata": {},
     "output_type": "execute_result"
    }
   ],
   "source": [
    "type(y)"
   ]
  },
  {
   "cell_type": "markdown",
   "id": "elect-senator",
   "metadata": {},
   "source": [
    "## Display docstrings \n",
    "\n",
    "You can place the ? character before or after (no space allowed) the object you are looking for docs.\n",
    "\n",
    "Example:\n"
   ]
  },
  {
   "cell_type": "code",
   "execution_count": 22,
   "id": "absent-suggestion",
   "metadata": {},
   "outputs": [
    {
     "data": {
      "text/plain": [
       "\u001b[0;31mDocstring:\u001b[0m\n",
       "print(value, ..., sep=' ', end='\\n', file=sys.stdout, flush=False)\n",
       "\n",
       "Prints the values to a stream, or to sys.stdout by default.\n",
       "Optional keyword arguments:\n",
       "file:  a file-like object (stream); defaults to the current sys.stdout.\n",
       "sep:   string inserted between values, default a space.\n",
       "end:   string appended after the last value, default a newline.\n",
       "flush: whether to forcibly flush the stream.\n",
       "\u001b[0;31mType:\u001b[0m      builtin_function_or_method\n"
      ]
     },
     "metadata": {},
     "output_type": "display_data"
    }
   ],
   "source": [
    "?print"
   ]
  },
  {
   "cell_type": "markdown",
   "id": "after-bernard",
   "metadata": {},
   "source": [
    "## Display source code\n",
    "\n",
    "\n",
    "To access the source code simply use ?? instead. \n",
    "\n",
    "Example to get the source code of the pprint command:"
   ]
  },
  {
   "cell_type": "code",
   "execution_count": 23,
   "id": "cubic-memphis",
   "metadata": {},
   "outputs": [
    {
     "data": {
      "text/plain": [
       "\u001b[0;31mSource:\u001b[0m\n",
       "    \u001b[0;34m@\u001b[0m\u001b[0mline_magic\u001b[0m\u001b[0;34m\u001b[0m\n",
       "\u001b[0;34m\u001b[0m    \u001b[0;32mdef\u001b[0m \u001b[0mpprint\u001b[0m\u001b[0;34m(\u001b[0m\u001b[0mself\u001b[0m\u001b[0;34m,\u001b[0m \u001b[0mparameter_s\u001b[0m\u001b[0;34m=\u001b[0m\u001b[0;34m''\u001b[0m\u001b[0;34m)\u001b[0m\u001b[0;34m:\u001b[0m\u001b[0;34m\u001b[0m\n",
       "\u001b[0;34m\u001b[0m        \u001b[0;34m\"\"\"Toggle pretty printing on/off.\"\"\"\u001b[0m\u001b[0;34m\u001b[0m\n",
       "\u001b[0;34m\u001b[0m        \u001b[0mptformatter\u001b[0m \u001b[0;34m=\u001b[0m \u001b[0mself\u001b[0m\u001b[0;34m.\u001b[0m\u001b[0mshell\u001b[0m\u001b[0;34m.\u001b[0m\u001b[0mdisplay_formatter\u001b[0m\u001b[0;34m.\u001b[0m\u001b[0mformatters\u001b[0m\u001b[0;34m[\u001b[0m\u001b[0;34m'text/plain'\u001b[0m\u001b[0;34m]\u001b[0m\u001b[0;34m\u001b[0m\n",
       "\u001b[0;34m\u001b[0m        \u001b[0mptformatter\u001b[0m\u001b[0;34m.\u001b[0m\u001b[0mpprint\u001b[0m \u001b[0;34m=\u001b[0m \u001b[0mbool\u001b[0m\u001b[0;34m(\u001b[0m\u001b[0;36m1\u001b[0m \u001b[0;34m-\u001b[0m \u001b[0mptformatter\u001b[0m\u001b[0;34m.\u001b[0m\u001b[0mpprint\u001b[0m\u001b[0;34m)\u001b[0m\u001b[0;34m\u001b[0m\n",
       "\u001b[0;34m\u001b[0m        \u001b[0mprint\u001b[0m\u001b[0;34m(\u001b[0m\u001b[0;34m'Pretty printing has been turned'\u001b[0m\u001b[0;34m,\u001b[0m\u001b[0;34m\u001b[0m\n",
       "\u001b[0;34m\u001b[0m              \u001b[0;34m[\u001b[0m\u001b[0;34m'OFF'\u001b[0m\u001b[0;34m,\u001b[0m\u001b[0;34m'ON'\u001b[0m\u001b[0;34m]\u001b[0m\u001b[0;34m[\u001b[0m\u001b[0mptformatter\u001b[0m\u001b[0;34m.\u001b[0m\u001b[0mpprint\u001b[0m\u001b[0;34m]\u001b[0m\u001b[0;34m)\u001b[0m\u001b[0;34m\u001b[0m\u001b[0;34m\u001b[0m\u001b[0m\n",
       "\u001b[0;31mFile:\u001b[0m   ~/anaconda3/envs/mikedev/lib/python3.8/site-packages/IPython/core/magics/basic.py\n"
      ]
     },
     "metadata": {},
     "output_type": "display_data"
    }
   ],
   "source": [
    "??pprint"
   ]
  }
 ],
 "metadata": {
  "kernelspec": {
   "display_name": "Python 3",
   "language": "python",
   "name": "python3"
  },
  "language_info": {
   "codemirror_mode": {
    "name": "ipython",
    "version": 3
   },
   "file_extension": ".py",
   "mimetype": "text/x-python",
   "name": "python",
   "nbconvert_exporter": "python",
   "pygments_lexer": "ipython3",
   "version": "3.8.6"
  },
  "toc-showmarkdowntxt": false
 },
 "nbformat": 4,
 "nbformat_minor": 5
}
